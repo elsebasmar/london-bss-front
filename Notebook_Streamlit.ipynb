{
 "cells": [
  {
   "cell_type": "code",
   "execution_count": 40,
   "metadata": {},
   "outputs": [],
   "source": [
    "import requests\n",
    "import json  \n",
    "import pandas as pd\n",
    "import numpy as np"
   ]
  },
  {
   "cell_type": "code",
   "execution_count": 77,
   "metadata": {},
   "outputs": [],
   "source": [
    "response= requests.get('https://api.tfl.gov.uk/BikePoint/')\n",
    "stations = response.json()"
   ]
  },
  {
   "cell_type": "code",
   "execution_count": 78,
   "metadata": {},
   "outputs": [
    {
     "data": {
      "text/plain": [
       "{'$type': 'Tfl.Api.Presentation.Entities.Place, Tfl.Api.Presentation.Entities',\n",
       " 'id': 'BikePoints_1',\n",
       " 'url': '/Place/BikePoints_1',\n",
       " 'commonName': 'River Street , Clerkenwell',\n",
       " 'placeType': 'BikePoint',\n",
       " 'additionalProperties': [{'$type': 'Tfl.Api.Presentation.Entities.AdditionalProperties, Tfl.Api.Presentation.Entities',\n",
       "   'category': 'Description',\n",
       "   'key': 'TerminalName',\n",
       "   'sourceSystemKey': 'BikePoints',\n",
       "   'value': '001023',\n",
       "   'modified': '2023-09-01T21:46:13.193Z'},\n",
       "  {'$type': 'Tfl.Api.Presentation.Entities.AdditionalProperties, Tfl.Api.Presentation.Entities',\n",
       "   'category': 'Description',\n",
       "   'key': 'Installed',\n",
       "   'sourceSystemKey': 'BikePoints',\n",
       "   'value': 'true',\n",
       "   'modified': '2023-09-01T21:46:13.193Z'},\n",
       "  {'$type': 'Tfl.Api.Presentation.Entities.AdditionalProperties, Tfl.Api.Presentation.Entities',\n",
       "   'category': 'Description',\n",
       "   'key': 'Locked',\n",
       "   'sourceSystemKey': 'BikePoints',\n",
       "   'value': 'false',\n",
       "   'modified': '2023-09-01T21:46:13.193Z'},\n",
       "  {'$type': 'Tfl.Api.Presentation.Entities.AdditionalProperties, Tfl.Api.Presentation.Entities',\n",
       "   'category': 'Description',\n",
       "   'key': 'InstallDate',\n",
       "   'sourceSystemKey': 'BikePoints',\n",
       "   'value': '1278947280000',\n",
       "   'modified': '2023-09-01T21:46:13.193Z'},\n",
       "  {'$type': 'Tfl.Api.Presentation.Entities.AdditionalProperties, Tfl.Api.Presentation.Entities',\n",
       "   'category': 'Description',\n",
       "   'key': 'RemovalDate',\n",
       "   'sourceSystemKey': 'BikePoints',\n",
       "   'value': '',\n",
       "   'modified': '2023-09-01T21:46:13.193Z'},\n",
       "  {'$type': 'Tfl.Api.Presentation.Entities.AdditionalProperties, Tfl.Api.Presentation.Entities',\n",
       "   'category': 'Description',\n",
       "   'key': 'Temporary',\n",
       "   'sourceSystemKey': 'BikePoints',\n",
       "   'value': 'false',\n",
       "   'modified': '2023-09-01T21:46:13.193Z'},\n",
       "  {'$type': 'Tfl.Api.Presentation.Entities.AdditionalProperties, Tfl.Api.Presentation.Entities',\n",
       "   'category': 'Description',\n",
       "   'key': 'NbBikes',\n",
       "   'sourceSystemKey': 'BikePoints',\n",
       "   'value': '18',\n",
       "   'modified': '2023-09-01T21:46:13.193Z'},\n",
       "  {'$type': 'Tfl.Api.Presentation.Entities.AdditionalProperties, Tfl.Api.Presentation.Entities',\n",
       "   'category': 'Description',\n",
       "   'key': 'NbEmptyDocks',\n",
       "   'sourceSystemKey': 'BikePoints',\n",
       "   'value': '1',\n",
       "   'modified': '2023-09-01T21:46:13.193Z'},\n",
       "  {'$type': 'Tfl.Api.Presentation.Entities.AdditionalProperties, Tfl.Api.Presentation.Entities',\n",
       "   'category': 'Description',\n",
       "   'key': 'NbDocks',\n",
       "   'sourceSystemKey': 'BikePoints',\n",
       "   'value': '19',\n",
       "   'modified': '2023-09-01T21:46:13.193Z'},\n",
       "  {'$type': 'Tfl.Api.Presentation.Entities.AdditionalProperties, Tfl.Api.Presentation.Entities',\n",
       "   'category': 'Description',\n",
       "   'key': 'NbStandardBikes',\n",
       "   'sourceSystemKey': 'BikePoints',\n",
       "   'value': '18',\n",
       "   'modified': '2023-09-01T21:46:13.193Z'},\n",
       "  {'$type': 'Tfl.Api.Presentation.Entities.AdditionalProperties, Tfl.Api.Presentation.Entities',\n",
       "   'category': 'Description',\n",
       "   'key': 'NbEBikes',\n",
       "   'sourceSystemKey': 'BikePoints',\n",
       "   'value': '0',\n",
       "   'modified': '2023-09-01T21:46:13.193Z'}],\n",
       " 'children': [],\n",
       " 'childrenUrls': [],\n",
       " 'lat': 51.529163,\n",
       " 'lon': -0.10997}"
      ]
     },
     "execution_count": 78,
     "metadata": {},
     "output_type": "execute_result"
    }
   ],
   "source": [
    "stations[0]"
   ]
  },
  {
   "cell_type": "code",
   "execution_count": 79,
   "metadata": {},
   "outputs": [],
   "source": [
    "data =  pd.DataFrame()\n",
    "s_names = []\n",
    "s_lat = []\n",
    "s_lon = []\n",
    "\n",
    "NbBikes = []\n",
    "NbEmptyDocks = []\n",
    "NbDocks = []\n",
    "NbStandardBikes = []\n",
    "NbEBikes = []\n",
    "s_id = []"
   ]
  },
  {
   "cell_type": "code",
   "execution_count": 83,
   "metadata": {},
   "outputs": [],
   "source": [
    "len_lat = 0\n",
    "for station in stations:\n",
    "    s_names.append(station['commonName'])\n",
    "    s_lat.append(float(station['lat']))\n",
    "    s_lon.append(float(station['lon']))\n",
    "    for add_property in station['additionalProperties']:\n",
    "        if add_property['key'] == 'NbBikes':\n",
    "            NbBikes.append(int(add_property['value']))\n",
    "        if add_property['key'] == 'NbEmptyDocks':\n",
    "            NbEmptyDocks.append(int(add_property['value']))     \n",
    "        if add_property['key'] == 'NbDocks':\n",
    "            NbDocks.append(int(add_property['value']))\n",
    "        if add_property['key'] == 'NbStandardBikes':\n",
    "            NbStandardBikes.append(int(add_property['value']))\n",
    "        if add_property['key'] == 'NbEBikes':\n",
    "            NbEBikes.append(int(add_property['value']))\n",
    "        if add_property['key'] == 'TerminalName':\n",
    "            s_id.append(int(add_property['value']))\n",
    "        "
   ]
  },
  {
   "cell_type": "code",
   "execution_count": 91,
   "metadata": {},
   "outputs": [
    {
     "data": {
      "text/plain": [
       "796"
      ]
     },
     "execution_count": 91,
     "metadata": {},
     "output_type": "execute_result"
    }
   ],
   "source": [
    "len(s_lat)"
   ]
  },
  {
   "cell_type": "code",
   "execution_count": null,
   "metadata": {},
   "outputs": [],
   "source": [
    "data['Station_name'] = s_names\n",
    "data['s_lat'] = s_lat\n",
    "data['s_lon'] = s_lon\n",
    "data['s_num_bikes'] = NbBikes\n",
    "data['s_num_empty_docks'] = NbEmptyDocks\n",
    "data['s_num_std_bikes'] = NbStandardBikes\n",
    "data['s_num_e-bikes'] = NbEBikes\n",
    "data['s_num_docks'] = data['s_num_bikes'] + data['s_num_empty_docks']\n",
    "data['s_id'] = s_id"
   ]
  },
  {
   "cell_type": "code",
   "execution_count": null,
   "metadata": {},
   "outputs": [],
   "source": [
    "data"
   ]
  },
  {
   "cell_type": "code",
   "execution_count": null,
   "metadata": {},
   "outputs": [],
   "source": [
    "# South East limits\n",
    "se_limit_lat = 51.523811 # everthing lower than this value is south east\n",
    "se_limit_lon = -0.101342 # everything greater than this value is south east\n",
    "\n",
    "# East limits\n",
    "e_limit_lat = 51.523811 # everything greater than this value is east\n",
    "e_limit_lon = -0.022306 # everything greater than this is east\n",
    "\n",
    "# South West limits\n",
    "sw_limit_lat = 51.501631 # everthing lower than this value is south east\n",
    "sw_limit_lon = -0.101342 # everything lower than this value is south east\n",
    "\n",
    "# West limits\n",
    "w_limit_lat = 51.501072  # everthing greater than this value is south east\n",
    "w_limit_lon = -0.182406  # everthing lower than this value is south east\n",
    "\n",
    "# Central limits\n",
    "c_toplimit_lat = 51.501072 # everthing greater than this value is central\n",
    "c_lowlimit_lat = 51.523811 # everything lower than this value is central\n",
    "\n",
    "c_toplimit_lon = -0.101342 # everything lower than this value is central\n",
    "c_lowlimit_lon = -0.182406 # everthing greater than this value is central\n",
    "\n",
    "# North limits\n",
    "n_toplimit_lon = -0.022306 # everything lower than this value is central\n",
    "n_lowlimit_lon = -0.182406 # everthing greater than this value is central\n",
    "\n",
    "n_lowlimit_lat = 51.523811 # everthing greater than this value is central"
   ]
  },
  {
   "cell_type": "code",
   "execution_count": null,
   "metadata": {},
   "outputs": [],
   "source": [
    "loc = []"
   ]
  },
  {
   "cell_type": "code",
   "execution_count": null,
   "metadata": {},
   "outputs": [],
   "source": [
    "for station in data.index:\n",
    "    if data['s_lat'][station] > c_toplimit_lat and data['s_lat'][station]< c_lowlimit_lat and data['s_lon'][station]< c_toplimit_lon and data['s_lon'][station]>c_lowlimit_lon:\n",
    "        loc.append('Central')\n",
    "    elif data['s_lon'][station] < n_toplimit_lon and data['s_lon'][station] > n_lowlimit_lon and data['s_lat'][station] > n_lowlimit_lat:\n",
    "        loc.append('North')\n",
    "    elif data['s_lon'][station] < w_limit_lon and data['s_lat'][station] > w_limit_lat:\n",
    "        loc.append('West')\n",
    "    elif data['s_lon'][station] < sw_limit_lon and data['s_lat'][station] < sw_limit_lat:\n",
    "        loc.append('South_West')  \n",
    "    elif data['s_lon'][station] > e_limit_lon and data['s_lat'][station] > e_limit_lat:\n",
    "        loc.append('East')     \n",
    "    elif data['s_lon'][station] > se_limit_lon and data['s_lat'][station] < se_limit_lat:\n",
    "        loc.append('East')    \n",
    "    else:\n",
    "        loc.append('Other')"
   ]
  },
  {
   "cell_type": "code",
   "execution_count": null,
   "metadata": {},
   "outputs": [],
   "source": [
    "data['Area_loc'] = loc"
   ]
  },
  {
   "cell_type": "code",
   "execution_count": null,
   "metadata": {},
   "outputs": [],
   "source": [
    "data"
   ]
  },
  {
   "cell_type": "code",
   "execution_count": null,
   "metadata": {},
   "outputs": [],
   "source": [
    "stations_details=data['Station_name'].str.split(', ', expand=True)\n",
    "stations=stations_details.rename(columns={0:'Street',1:'Neighbourhood'})"
   ]
  },
  {
   "cell_type": "code",
   "execution_count": null,
   "metadata": {},
   "outputs": [],
   "source": [
    "stations_fv=stations[['Street','Neighbourhood']]\n",
    "stations_fv['Street']=stations_fv['Street'].apply(lambda x: x.strip())\n",
    "# stations_fv['Neighbourhood']=stations_fv['Neighbourhood'].apply(lambda x: x.strip())"
   ]
  },
  {
   "cell_type": "code",
   "execution_count": null,
   "metadata": {},
   "outputs": [],
   "source": [
    "stations_fv['Neighbourhood'].unique()"
   ]
  },
  {
   "cell_type": "code",
   "execution_count": null,
   "metadata": {},
   "outputs": [],
   "source": [
    "stations_fv['Station_name']=data['Station_name']"
   ]
  },
  {
   "cell_type": "code",
   "execution_count": null,
   "metadata": {},
   "outputs": [],
   "source": [
    "df_stations=data.merge(stations_fv,on='Station_name')"
   ]
  },
  {
   "cell_type": "code",
   "execution_count": null,
   "metadata": {},
   "outputs": [],
   "source": [
    "df_stations"
   ]
  },
  {
   "cell_type": "code",
   "execution_count": null,
   "metadata": {},
   "outputs": [],
   "source": [
    "df_stations.columns"
   ]
  },
  {
   "cell_type": "code",
   "execution_count": null,
   "metadata": {},
   "outputs": [],
   "source": [
    "stations_df_st=df_stations[['s_id','Station_name','Street',\n",
    "                            'Neighbourhood','Area_loc', 's_lat', 's_lon','s_num_docks']]"
   ]
  },
  {
   "cell_type": "code",
   "execution_count": null,
   "metadata": {},
   "outputs": [],
   "source": [
    "stations_df_st"
   ]
  },
  {
   "cell_type": "markdown",
   "metadata": {},
   "source": [
    "### Colour Formatting"
   ]
  },
  {
   "cell_type": "code",
   "execution_count": null,
   "metadata": {},
   "outputs": [],
   "source": [
    "color_dict={'Area_loc': list(stations_df_st['Area_loc'].unique())\n",
    "                       , 'Colours': ['#ffbaba','#ff7b7b', '#ff5252', '#ff0000', '#a70000']\n",
    "                    ,'index':[0, 1, 2, 3,4]}\n",
    "\n",
    "color_df=pd.DataFrame(color_dict)\n",
    "color_df\n"
   ]
  },
  {
   "cell_type": "code",
   "execution_count": null,
   "metadata": {},
   "outputs": [],
   "source": [
    "stations_df_st.columns"
   ]
  },
  {
   "cell_type": "code",
   "execution_count": null,
   "metadata": {},
   "outputs": [],
   "source": [
    "stations_df_st=stations_df_st.merge(color_df,on='Area_loc',how='left')"
   ]
  },
  {
   "cell_type": "code",
   "execution_count": null,
   "metadata": {},
   "outputs": [],
   "source": [
    "stations_df_st"
   ]
  },
  {
   "cell_type": "markdown",
   "metadata": {},
   "source": [
    "### Size Bucket"
   ]
  },
  {
   "cell_type": "code",
   "execution_count": null,
   "metadata": {},
   "outputs": [],
   "source": [
    "\n",
    "stations_df_st['Size_bucket']=[(50 if x<=15 else (100 if 15<x<=30 else (150 if 30<x<=45 else 200))) for x in stations_df_st['s_num_docks']]\n",
    "\n"
   ]
  },
  {
   "cell_type": "code",
   "execution_count": null,
   "metadata": {},
   "outputs": [],
   "source": [
    "path_st='raw_data/stations_df_st.csv'"
   ]
  },
  {
   "cell_type": "code",
   "execution_count": null,
   "metadata": {},
   "outputs": [],
   "source": [
    "stations_df_st.to_csv(path_st)"
   ]
  },
  {
   "cell_type": "code",
   "execution_count": null,
   "metadata": {},
   "outputs": [],
   "source": [
    "stations_df_st"
   ]
  },
  {
   "cell_type": "code",
   "execution_count": null,
   "metadata": {},
   "outputs": [],
   "source": [
    "stations_df_st[stations_df_st.Neighbourhood=='Liverpool Street']"
   ]
  },
  {
   "cell_type": "markdown",
   "metadata": {},
   "source": [
    "## Calling the API"
   ]
  },
  {
   "cell_type": "code",
   "execution_count": 41,
   "metadata": {},
   "outputs": [],
   "source": [
    "response_2= requests.get('https://api.tfl.gov.uk/BikePoint/')\n",
    "stations_2 = response_2.json()"
   ]
  },
  {
   "cell_type": "code",
   "execution_count": 48,
   "metadata": {},
   "outputs": [
    {
     "data": {
      "text/plain": [
       "{'$type': 'Tfl.Api.Presentation.Entities.Place, Tfl.Api.Presentation.Entities',\n",
       " 'id': 'BikePoints_1',\n",
       " 'url': '/Place/BikePoints_1',\n",
       " 'commonName': 'River Street , Clerkenwell',\n",
       " 'placeType': 'BikePoint',\n",
       " 'additionalProperties': [{'$type': 'Tfl.Api.Presentation.Entities.AdditionalProperties, Tfl.Api.Presentation.Entities',\n",
       "   'category': 'Description',\n",
       "   'key': 'TerminalName',\n",
       "   'sourceSystemKey': 'BikePoints',\n",
       "   'value': '001023',\n",
       "   'modified': '2023-09-01T21:08:07.183Z'},\n",
       "  {'$type': 'Tfl.Api.Presentation.Entities.AdditionalProperties, Tfl.Api.Presentation.Entities',\n",
       "   'category': 'Description',\n",
       "   'key': 'Installed',\n",
       "   'sourceSystemKey': 'BikePoints',\n",
       "   'value': 'true',\n",
       "   'modified': '2023-09-01T21:08:07.183Z'},\n",
       "  {'$type': 'Tfl.Api.Presentation.Entities.AdditionalProperties, Tfl.Api.Presentation.Entities',\n",
       "   'category': 'Description',\n",
       "   'key': 'Locked',\n",
       "   'sourceSystemKey': 'BikePoints',\n",
       "   'value': 'false',\n",
       "   'modified': '2023-09-01T21:08:07.183Z'},\n",
       "  {'$type': 'Tfl.Api.Presentation.Entities.AdditionalProperties, Tfl.Api.Presentation.Entities',\n",
       "   'category': 'Description',\n",
       "   'key': 'InstallDate',\n",
       "   'sourceSystemKey': 'BikePoints',\n",
       "   'value': '1278947280000',\n",
       "   'modified': '2023-09-01T21:08:07.183Z'},\n",
       "  {'$type': 'Tfl.Api.Presentation.Entities.AdditionalProperties, Tfl.Api.Presentation.Entities',\n",
       "   'category': 'Description',\n",
       "   'key': 'RemovalDate',\n",
       "   'sourceSystemKey': 'BikePoints',\n",
       "   'value': '',\n",
       "   'modified': '2023-09-01T21:08:07.183Z'},\n",
       "  {'$type': 'Tfl.Api.Presentation.Entities.AdditionalProperties, Tfl.Api.Presentation.Entities',\n",
       "   'category': 'Description',\n",
       "   'key': 'Temporary',\n",
       "   'sourceSystemKey': 'BikePoints',\n",
       "   'value': 'false',\n",
       "   'modified': '2023-09-01T21:08:07.183Z'},\n",
       "  {'$type': 'Tfl.Api.Presentation.Entities.AdditionalProperties, Tfl.Api.Presentation.Entities',\n",
       "   'category': 'Description',\n",
       "   'key': 'NbBikes',\n",
       "   'sourceSystemKey': 'BikePoints',\n",
       "   'value': '17',\n",
       "   'modified': '2023-09-01T21:08:07.183Z'},\n",
       "  {'$type': 'Tfl.Api.Presentation.Entities.AdditionalProperties, Tfl.Api.Presentation.Entities',\n",
       "   'category': 'Description',\n",
       "   'key': 'NbEmptyDocks',\n",
       "   'sourceSystemKey': 'BikePoints',\n",
       "   'value': '2',\n",
       "   'modified': '2023-09-01T21:08:07.183Z'},\n",
       "  {'$type': 'Tfl.Api.Presentation.Entities.AdditionalProperties, Tfl.Api.Presentation.Entities',\n",
       "   'category': 'Description',\n",
       "   'key': 'NbDocks',\n",
       "   'sourceSystemKey': 'BikePoints',\n",
       "   'value': '19',\n",
       "   'modified': '2023-09-01T21:08:07.183Z'},\n",
       "  {'$type': 'Tfl.Api.Presentation.Entities.AdditionalProperties, Tfl.Api.Presentation.Entities',\n",
       "   'category': 'Description',\n",
       "   'key': 'NbStandardBikes',\n",
       "   'sourceSystemKey': 'BikePoints',\n",
       "   'value': '17',\n",
       "   'modified': '2023-09-01T21:08:07.183Z'},\n",
       "  {'$type': 'Tfl.Api.Presentation.Entities.AdditionalProperties, Tfl.Api.Presentation.Entities',\n",
       "   'category': 'Description',\n",
       "   'key': 'NbEBikes',\n",
       "   'sourceSystemKey': 'BikePoints',\n",
       "   'value': '0',\n",
       "   'modified': '2023-09-01T21:08:07.183Z'}],\n",
       " 'children': [],\n",
       " 'childrenUrls': [],\n",
       " 'lat': 51.529163,\n",
       " 'lon': -0.10997}"
      ]
     },
     "execution_count": 48,
     "metadata": {},
     "output_type": "execute_result"
    }
   ],
   "source": [
    "stations_2[0]"
   ]
  },
  {
   "cell_type": "code",
   "execution_count": 46,
   "metadata": {},
   "outputs": [],
   "source": [
    "origin='Shoreditch Park, Hoxton'\n",
    "destination='Finsbury Circus, Liverpool Street'"
   ]
  },
  {
   "cell_type": "code",
   "execution_count": 89,
   "metadata": {},
   "outputs": [
    {
     "name": "stdout",
     "output_type": "stream",
     "text": [
      "12\n",
      "18\n"
     ]
    }
   ],
   "source": [
    "for station in stations_2:\n",
    "    if station['commonName']==origin:\n",
    "        for add_property in station['additionalProperties']:\n",
    "            if add_property['key'] == 'NbBikes':\n",
    "                print(add_property['value'])\n",
    "    if station['commonName']==destination:\n",
    "            for add_property in station['additionalProperties']:\n",
    "                if add_property['key'] == 'NbEmptyDocks':\n",
    "                    print(add_property['value'])\n",
    "        \n"
   ]
  },
  {
   "cell_type": "code",
   "execution_count": 93,
   "metadata": {},
   "outputs": [
    {
     "name": "stdout",
     "output_type": "stream",
     "text": [
      "51.517075\n",
      "-0.086685\n",
      "51.534042\n",
      "-0.086379\n"
     ]
    }
   ],
   "source": [
    "for station in stations_2:\n",
    "    if station['commonName']==origin:\n",
    "        print(station['lat'])\n",
    "        print(station['lon'])\n",
    "    if station['commonName']==destination:\n",
    "        print(station['lat'])\n",
    "        print(station['lon'])\n",
    "        "
   ]
  },
  {
   "cell_type": "code",
   "execution_count": null,
   "metadata": {},
   "outputs": [],
   "source": []
  }
 ],
 "metadata": {
  "kernelspec": {
   "display_name": "Python 3 (ipykernel)",
   "language": "python",
   "name": "python3"
  },
  "language_info": {
   "codemirror_mode": {
    "name": "ipython",
    "version": 3
   },
   "file_extension": ".py",
   "mimetype": "text/x-python",
   "name": "python",
   "nbconvert_exporter": "python",
   "pygments_lexer": "ipython3",
   "version": "3.10.6"
  }
 },
 "nbformat": 4,
 "nbformat_minor": 4
}
